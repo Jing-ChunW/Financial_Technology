{
 "cells": [
  {
   "cell_type": "code",
   "execution_count": 1,
   "metadata": {},
   "outputs": [],
   "source": [
    "import pandas as pd\n",
    "import numpy as np\n",
    "import torch.nn as nn\n",
    "import torch\n",
    "from sklearn.model_selection import StratifiedKFold\n",
    "import os\n",
    "from sklearn.preprocessing import StandardScaler\n",
    "from random import sample\n",
    "import random\n",
    "import matplotlib.pyplot as plt"
   ]
  },
  {
   "attachments": {},
   "cell_type": "markdown",
   "metadata": {},
   "source": [
    "# Load data"
   ]
  },
  {
   "cell_type": "code",
   "execution_count": 16,
   "metadata": {},
   "outputs": [],
   "source": [
    "f = pd.read_csv('./result/featuresV1_Private.csv')\n",
    "fv1 = f[['alert_key', 'trade_amount_usd', 'amt_sum',\n",
    "       'amt_std', 'd_cur_type', 'day', 'trans_no_final', 'd_cur_type_ratio',\n",
    "       'sum_0', 'sum_1', 'var_0', 'var_1', 'transnation_rate',\n",
    "       'total_amount_money_in', 'total_amount_money_out', 'var_money_in',\n",
    "       'var_money_out', 'cross_bank_rate', 'risk_rank',\n",
    "       'occupation_code', 'total_asset', 'AGE', 'lupay_max', 'lupay_std',\n",
    "       'clamt_max', 'clamt_std', 'csamt_max', 'csamt_std', 'inamt_max',\n",
    "       'inamt_std', 'cucsm_max', 'cucsm_std', 'cucah_max', 'cucah_std',\n",
    "       'cytocam_times', 'cytocam_first', 'cytocam_last', 'cytocam_variance']]\n",
    "feature = pd.read_csv('./result/featuresV1.csv')\n",
    "feature = feature[['alert_key', 'trade_amount_usd', 'amt_sum',\n",
    "       'amt_std', 'd_cur_type', 'day', 'trans_no_final', 'd_cur_type_ratio',\n",
    "       'sum_0', 'sum_1', 'var_0', 'var_1', 'transnation_rate',\n",
    "       'total_amount_money_in', 'total_amount_money_out', 'var_money_in',\n",
    "       'var_money_out', 'cross_bank_rate', 'risk_rank',\n",
    "       'occupation_code', 'total_asset', 'AGE', 'lupay_max', 'lupay_std',\n",
    "       'clamt_max', 'clamt_std', 'csamt_max', 'csamt_std', 'inamt_max',\n",
    "       'inamt_std', 'cucsm_max', 'cucsm_std', 'cucah_max', 'cucah_std',\n",
    "       'cytocam_times', 'cytocam_first', 'cytocam_last', 'cytocam_variance']]"
   ]
  },
  {
   "cell_type": "code",
   "execution_count": 17,
   "metadata": {},
   "outputs": [],
   "source": [
    "\n",
    "public_answer = pd.read_csv('./data/24_ESun_public_y_answer.csv')\n",
    "\n",
    "target = pd.read_csv('./data/train_y_answer.csv')\n",
    "feature_public = pd.DataFrame([])\n",
    "for i in range(len(feature)):\n",
    "    if feature['alert_key'].iloc[i] not in list(target.alert_key):\n",
    "        dp_t = pd.DataFrame(np.array([np.array(feature.iloc[i])]), columns = feature.columns)\n",
    "        feature_public = pd.concat([feature_public, dp_t])\n",
    "target.set_index('alert_key', inplace = True)\n",
    "feature.set_index('alert_key', inplace = True)\n",
    "public_answer.set_index('alert_key', inplace = True)\n",
    "\n",
    "feature = feature.reindex(target.index)\n",
    "public_answer = public_answer.reindex(feature_public.index)\n",
    "feature = pd.concat([feature, target], axis = 1)\n",
    "feature_public = pd.concat([feature_public, public_answer], axis = 1)\n",
    "alert_key = feature_public.alert_key\n",
    "feature_public.set_index('alert_key', inplace = True)\n",
    "feature_public = feature_public.fillna(0)\n",
    "feature = feature.fillna(0)"
   ]
  },
  {
   "cell_type": "code",
   "execution_count": 18,
   "metadata": {},
   "outputs": [],
   "source": [
    "feature = pd.concat([feature, feature_public])\n",
    "fv2 = pd.DataFrame([])\n",
    "# fv1.reset_index(inplace = True)\n",
    "for i in range(len(fv1.alert_key)):\n",
    "    if fv1['alert_key'].iloc[i] != 0:\n",
    "        \n",
    "        dp_t = pd.DataFrame(np.array([np.array(fv1.iloc[i])]), columns = fv1.columns)\n",
    "        fv2 = pd.concat([fv2, dp_t])"
   ]
  },
  {
   "cell_type": "code",
   "execution_count": 19,
   "metadata": {},
   "outputs": [],
   "source": [
    "alert_key = fv2.alert_key\n",
    "fv2.set_index('alert_key', inplace = True)"
   ]
  },
  {
   "cell_type": "code",
   "execution_count": 20,
   "metadata": {},
   "outputs": [],
   "source": [
    "df = feature\n",
    "df_public = fv2"
   ]
  },
  {
   "attachments": {},
   "cell_type": "markdown",
   "metadata": {},
   "source": [
    "# Random Forest Model"
   ]
  },
  {
   "cell_type": "code",
   "execution_count": 21,
   "metadata": {},
   "outputs": [
    {
     "data": {
      "text/plain": [
       "RandomForestClassifier()"
      ]
     },
     "execution_count": 21,
     "metadata": {},
     "output_type": "execute_result"
    }
   ],
   "source": [
    "from sklearn.ensemble import RandomForestClassifier\n",
    "\n",
    "rf_clf = RandomForestClassifier(n_estimators = 100)\n",
    "rf_clf.fit(df.iloc[:, :-1], df.iloc[:, -1])\n",
    "# y_this_ = rf_clf.predict_proba(df_public)"
   ]
  },
  {
   "attachments": {},
   "cell_type": "markdown",
   "metadata": {},
   "source": [
    "# XGBoost Model"
   ]
  },
  {
   "cell_type": "code",
   "execution_count": 22,
   "metadata": {},
   "outputs": [
    {
     "data": {
      "text/plain": [
       "XGBClassifier(base_score=0.5, booster='gbtree', callbacks=None,\n",
       "              colsample_bylevel=1, colsample_bynode=1, colsample_bytree=1,\n",
       "              early_stopping_rounds=None, enable_categorical=False,\n",
       "              eval_metric=None, feature_types=None, gamma=0, gpu_id=-1,\n",
       "              grow_policy='depthwise', importance_type=None,\n",
       "              interaction_constraints='', learning_rate=0.25, max_bin=256,\n",
       "              max_cat_threshold=64, max_cat_to_onehot=4, max_delta_step=0,\n",
       "              max_depth=6, max_leaves=0, min_child_weight=1, missing=nan,\n",
       "              monotone_constraints='()', n_estimators=100, n_jobs=0,\n",
       "              num_parallel_tree=1, predictor='auto', random_state=0, ...)"
      ]
     },
     "execution_count": 22,
     "metadata": {},
     "output_type": "execute_result"
    }
   ],
   "source": [
    "from xgboost import XGBClassifier\n",
    "random.seed(100)\n",
    "\n",
    "xgboostModel = XGBClassifier(n_estimators=100, learning_rate= 0.25)\n",
    "xgboostModel.fit(df.iloc[:, :-1], df.iloc[:, -1])\n",
    "# y_this_ = xgboostModel.predict_proba(df_public)\n"
   ]
  },
  {
   "attachments": {},
   "cell_type": "markdown",
   "metadata": {},
   "source": [
    "# SVM Model"
   ]
  },
  {
   "cell_type": "code",
   "execution_count": 23,
   "metadata": {},
   "outputs": [
    {
     "data": {
      "text/plain": [
       "SVC(probability=True, random_state=100)"
      ]
     },
     "execution_count": 23,
     "metadata": {},
     "output_type": "execute_result"
    }
   ],
   "source": [
    "from sklearn.svm import SVC\n",
    "svm_clf = SVC(probability = True, random_state = 100)\n",
    "svm_clf.fit(df.iloc[:, :-1], df.iloc[:, -1])\n",
    "# y_this_ = svm_clf.predict_proba(df_public)"
   ]
  },
  {
   "attachments": {},
   "cell_type": "markdown",
   "metadata": {},
   "source": [
    "# voting classifier"
   ]
  },
  {
   "cell_type": "code",
   "execution_count": 24,
   "metadata": {},
   "outputs": [],
   "source": [
    "from sklearn.ensemble import VotingClassifier\n",
    "\n",
    "voting_clf = VotingClassifier(estimators = [ ('rf_clf', rf_clf), ('svm_clf', svm_clf), ('xgboostModel', xgboostModel)], voting='soft', weights = [0,7,3])"
   ]
  },
  {
   "cell_type": "code",
   "execution_count": 25,
   "metadata": {},
   "outputs": [],
   "source": [
    "clf = voting_clf\n",
    "clf.fit(df.iloc[:, :-1], df.iloc[:, -1])\n",
    "y_this_ = clf.predict_proba(df_public)"
   ]
  },
  {
   "cell_type": "code",
   "execution_count": 26,
   "metadata": {},
   "outputs": [],
   "source": [
    "y_this_ = pd.DataFrame(y_this_)\n",
    "p = pd.concat([pd.DataFrame(np.array([np.array(alert_key)]).T), y_this_[y_this_.columns[1]]], axis = 1)\n",
    "p.columns = ['alert_key', 'probability']\n",
    "sample = pd.read_csv('./data/sample.csv')\n",
    "sample.set_index('alert_key', inplace = True)\n",
    "p.set_index('alert_key', inplace = True)\n",
    "p = p.reindex(sample.index)\n",
    "p.reset_index(inplace = True)\n",
    "p = p.fillna(0)\n",
    "p.columns = ['alert_key', 'probability']\n",
    "p.to_csv('./result/Private_Prob_FeatureV1.csv', index = False)"
   ]
  },
  {
   "cell_type": "code",
   "execution_count": null,
   "metadata": {},
   "outputs": [],
   "source": []
  }
 ],
 "metadata": {
  "kernelspec": {
   "display_name": "torch1.11_jingchun",
   "language": "python",
   "name": "python3"
  },
  "language_info": {
   "codemirror_mode": {
    "name": "ipython",
    "version": 3
   },
   "file_extension": ".py",
   "mimetype": "text/x-python",
   "name": "python",
   "nbconvert_exporter": "python",
   "pygments_lexer": "ipython3",
   "version": "3.8.13"
  },
  "orig_nbformat": 4,
  "vscode": {
   "interpreter": {
    "hash": "153eb44d1df451050d9a6ad951757631dc786b54726fb271d26408330b3b4639"
   }
  }
 },
 "nbformat": 4,
 "nbformat_minor": 2
}
