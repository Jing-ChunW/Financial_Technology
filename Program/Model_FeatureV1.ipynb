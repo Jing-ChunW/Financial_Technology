{
 "cells": [
  {
   "cell_type": "code",
   "execution_count": 2,
   "metadata": {},
   "outputs": [],
   "source": [
    "import pandas as pd\n",
    "import numpy as np\n",
    "import torch.nn as nn\n",
    "import torch\n",
    "from sklearn.model_selection import StratifiedKFold\n",
    "import os\n",
    "from sklearn.preprocessing import StandardScaler\n",
    "from random import sample\n",
    "import random\n",
    "import matplotlib.pyplot as plt"
   ]
  },
  {
   "attachments": {},
   "cell_type": "markdown",
   "metadata": {},
   "source": [
    "# load data"
   ]
  },
  {
   "cell_type": "code",
   "execution_count": 109,
   "metadata": {},
   "outputs": [],
   "source": [
    "feature = pd.read_csv('./result/featuresV1.csv')\n",
    "feature = feature[['alert_key', 'trade_amount_usd', 'amt_sum',\n",
    "       'amt_std', 'd_cur_type', 'day', 'trans_no_final', 'd_cur_type_ratio',\n",
    "       'sum_0', 'sum_1', 'var_0', 'var_1', 'transnation_rate',\n",
    "       'total_amount_money_in', 'total_amount_money_out', 'var_money_in',\n",
    "       'var_money_out', 'cross_bank_rate', 'risk_rank',\n",
    "       'occupation_code', 'total_asset', 'AGE', 'lupay_max', 'lupay_std',\n",
    "       'clamt_max', 'clamt_std', 'csamt_max', 'csamt_std', 'inamt_max',\n",
    "       'inamt_std', 'cucsm_max', 'cucsm_std', 'cucah_max', 'cucah_std',\n",
    "       'cytocam_times', 'cytocam_first', 'cytocam_last', 'cytocam_variance']]"
   ]
  },
  {
   "cell_type": "code",
   "execution_count": 110,
   "metadata": {},
   "outputs": [],
   "source": [
    "\n",
    "target = pd.read_csv('./data/train_y_answer.csv')\n",
    "feature_public = pd.DataFrame([])\n",
    "for i in range(len(feature)):\n",
    "    if feature['alert_key'].iloc[i] not in list(target.alert_key):\n",
    "        dp_t = pd.DataFrame(np.array([np.array(feature.iloc[i])]), columns = feature.columns)\n",
    "        feature_public = pd.concat([feature_public, dp_t])\n",
    "target.set_index('alert_key', inplace = True)\n",
    "feature.set_index('alert_key', inplace = True)\n",
    "\n",
    "feature = feature.reindex(target.index)\n",
    "feature = pd.concat([feature, target], axis = 1)\n",
    "alert_key = feature_public.alert_key\n",
    "feature_public.set_index('alert_key', inplace = True)\n",
    "feature_public = feature_public.fillna(0)\n",
    "feature = feature.fillna(0)"
   ]
  },
  {
   "cell_type": "code",
   "execution_count": 111,
   "metadata": {},
   "outputs": [],
   "source": [
    "df = feature\n",
    "df_public = feature_public"
   ]
  },
  {
   "attachments": {},
   "cell_type": "markdown",
   "metadata": {},
   "source": [
    "# Random Forest model"
   ]
  },
  {
   "cell_type": "code",
   "execution_count": 112,
   "metadata": {},
   "outputs": [
    {
     "data": {
      "text/plain": [
       "RandomForestClassifier()"
      ]
     },
     "execution_count": 112,
     "metadata": {},
     "output_type": "execute_result"
    }
   ],
   "source": [
    "from sklearn.ensemble import RandomForestClassifier\n",
    "\n",
    "rf_clf = RandomForestClassifier(n_estimators = 100)\n",
    "rf_clf.fit(df.iloc[:, :-1], df.iloc[:, -1])\n",
    "# y_this_ = rf_clf.predict_proba(df_public)"
   ]
  },
  {
   "attachments": {},
   "cell_type": "markdown",
   "metadata": {},
   "source": [
    "# XGBoost model"
   ]
  },
  {
   "cell_type": "code",
   "execution_count": 113,
   "metadata": {},
   "outputs": [
    {
     "data": {
      "text/plain": [
       "XGBClassifier(base_score=0.5, booster='gbtree', callbacks=None,\n",
       "              colsample_bylevel=1, colsample_bynode=1, colsample_bytree=1,\n",
       "              early_stopping_rounds=None, enable_categorical=False,\n",
       "              eval_metric=None, feature_types=None, gamma=0, gpu_id=-1,\n",
       "              grow_policy='depthwise', importance_type=None,\n",
       "              interaction_constraints='', learning_rate=0.25, max_bin=256,\n",
       "              max_cat_threshold=64, max_cat_to_onehot=4, max_delta_step=0,\n",
       "              max_depth=6, max_leaves=0, min_child_weight=1, missing=nan,\n",
       "              monotone_constraints='()', n_estimators=100, n_jobs=0,\n",
       "              num_parallel_tree=1, predictor='auto', random_state=0, ...)"
      ]
     },
     "execution_count": 113,
     "metadata": {},
     "output_type": "execute_result"
    }
   ],
   "source": [
    "from xgboost import XGBClassifier\n",
    "random.seed(100)\n",
    "\n",
    "xgboostModel = XGBClassifier(n_estimators=100, learning_rate= 0.25)\n",
    "xgboostModel.fit(df.iloc[:, :-1], df.iloc[:, -1])\n",
    "# y_this_ = xgboostModel.predict_proba(df_public)\n"
   ]
  },
  {
   "attachments": {},
   "cell_type": "markdown",
   "metadata": {},
   "source": [
    "# SVM model"
   ]
  },
  {
   "cell_type": "code",
   "execution_count": 114,
   "metadata": {},
   "outputs": [
    {
     "data": {
      "text/plain": [
       "SVC(probability=True, random_state=100)"
      ]
     },
     "execution_count": 114,
     "metadata": {},
     "output_type": "execute_result"
    }
   ],
   "source": [
    "from sklearn.svm import SVC\n",
    "svm_clf = SVC(probability = True, random_state = 100)\n",
    "svm_clf.fit(df.iloc[:, :-1], df.iloc[:, -1])\n",
    "# y_this_ = svm_clf.predict_proba(df_public)"
   ]
  },
  {
   "attachments": {},
   "cell_type": "markdown",
   "metadata": {},
   "source": [
    "# voting classifier"
   ]
  },
  {
   "cell_type": "code",
   "execution_count": 115,
   "metadata": {},
   "outputs": [],
   "source": [
    "from sklearn.ensemble import VotingClassifier\n",
    "\n",
    "voting_clf = VotingClassifier(estimators = [ ('rf_clf', rf_clf), ('svm_clf', svm_clf), ('xgboostModel', xgboostModel)], voting='soft', weights = [0,7,3])"
   ]
  },
  {
   "cell_type": "code",
   "execution_count": 116,
   "metadata": {},
   "outputs": [],
   "source": [
    "clf = voting_clf\n",
    "clf.fit(df.iloc[:, :-1], df.iloc[:, -1])\n",
    "y_this_ = clf.predict_proba(df_public)"
   ]
  },
  {
   "cell_type": "code",
   "execution_count": 117,
   "metadata": {},
   "outputs": [],
   "source": [
    "def score(y_true: pd.DataFrame, y_pred: pd.DataFrame):\n",
    "    \"\"\" \n",
    "    y_true - pandas.DataFrame: alert_key | sar_flag\n",
    "    y_pred - pandas.DataFrame: alert_key | prob  \n",
    "    \"\"\"\n",
    "    n = len(y_true[y_true.sar_flag==1]) # Num sar\n",
    "    sar = y_true[y_true.sar_flag==1].alert_key.values # sar alert keys\n",
    "    y_pred.sort_values(by=['probability'], ascending=False, inplace=True)\n",
    "    hit = 0\n",
    "    for i, y_pred_ in enumerate(y_pred.alert_key.values):\n",
    "        if y_pred_ in sar:\n",
    "            hit += 1\n",
    "        if hit == n-1:\n",
    "            break\n",
    "    return (n-1)/(i+1), n-1, i"
   ]
  },
  {
   "attachments": {},
   "cell_type": "markdown",
   "metadata": {},
   "source": [
    "# public score"
   ]
  },
  {
   "cell_type": "code",
   "execution_count": 118,
   "metadata": {},
   "outputs": [
    {
     "name": "stdout",
     "output_type": "stream",
     "text": [
      "0.01631321370309951\n"
     ]
    }
   ],
   "source": [
    "answer = pd.read_csv('./data/24_ESun_public_y_answer.csv')\n",
    "answer.set_index('alert_key', inplace = True)\n",
    "y_this_ = pd.DataFrame(y_this_)\n",
    "a = pd.concat([pd.DataFrame(np.array([np.array(alert_key)]).T), y_this_[y_this_.columns[1]]], axis = 1)\n",
    "a.columns = ['alert_key', 'probability']\n",
    "a.set_index('alert_key', inplace = True)\n",
    "a = a.reindex(answer.index)\n",
    "a.reset_index(inplace= True)\n",
    "answer.reset_index(inplace = True)\n",
    "score_ = score(answer, a)\n",
    "print(score_[0])"
   ]
  },
  {
   "attachments": {},
   "cell_type": "markdown",
   "metadata": {},
   "source": [
    "# SAR prob rank"
   ]
  },
  {
   "cell_type": "code",
   "execution_count": 19,
   "metadata": {},
   "outputs": [
    {
     "name": "stdout",
     "output_type": "stream",
     "text": [
      "354939 [71]\n",
      "355091 [97]\n",
      "355152 [1398]\n",
      "355724 [65]\n",
      "359668 [431]\n",
      "356602 [33]\n",
      "363320 [30]\n",
      "358453 [612]\n",
      "363896 [324]\n",
      "361617 [574]\n",
      "363033 [398]\n"
     ]
    }
   ],
   "source": [
    "y_this_ = pd.DataFrame(y_this_)\n",
    "a = pd.concat([pd.DataFrame(np.array([np.array(alert_key)]).T), y_this_[y_this_.columns[1]]], axis = 1)\n",
    "a.columns = ['alert_key', 'probability']\n",
    "a = a.sort_values('probability', ascending = False)\n",
    "a.reset_index(inplace = True)\n",
    "a.drop(columns = 'index', inplace = True)\n",
    "answer = pd.read_csv('./data/24_ESun_public_y_answer.csv')\n",
    "answer_1 = answer[answer.sar_flag == 1]\n",
    "for i in answer_1['alert_key']:\n",
    "    index = a[a.alert_key == i].index\n",
    "    print(i, index.values)"
   ]
  },
  {
   "cell_type": "code",
   "execution_count": 20,
   "metadata": {},
   "outputs": [
    {
     "name": "stderr",
     "output_type": "stream",
     "text": [
      "/homes/jingchun/.conda/envs/torch1.11_jingchun/lib/python3.8/site-packages/pandas/core/indexes/base.py:6982: FutureWarning: In a future version, the Index constructor will not infer numeric dtypes when passed object-dtype sequences (matching Series behavior)\n",
      "  return Index(sequences[0], name=names)\n"
     ]
    }
   ],
   "source": [
    "y_this_ = pd.DataFrame(y_this_)\n",
    "p = pd.concat([pd.DataFrame(np.array([np.array(alert_key)]).T), y_this_[y_this_.columns[1]]], axis = 1)\n",
    "p.columns = ['alert_key', 'probability']\n",
    "sample = pd.read_csv('./data/sample.csv')\n",
    "sample.set_index('alert_key', inplace = True)\n",
    "p.set_index('alert_key', inplace = True)\n",
    "p = p.reindex(sample.index)\n",
    "p.reset_index(inplace = True)\n",
    "p = p.fillna(0)\n",
    "p.columns = ['alert_key', 'probability']\n",
    "p.to_csv('./result/Public_Prob_FeatureV1.csv', index = False)"
   ]
  }
 ],
 "metadata": {
  "kernelspec": {
   "display_name": "torch1.11_jingchun",
   "language": "python",
   "name": "python3"
  },
  "language_info": {
   "codemirror_mode": {
    "name": "ipython",
    "version": 3
   },
   "file_extension": ".py",
   "mimetype": "text/x-python",
   "name": "python",
   "nbconvert_exporter": "python",
   "pygments_lexer": "ipython3",
   "version": "3.8.13"
  },
  "orig_nbformat": 4,
  "vscode": {
   "interpreter": {
    "hash": "153eb44d1df451050d9a6ad951757631dc786b54726fb271d26408330b3b4639"
   }
  }
 },
 "nbformat": 4,
 "nbformat_minor": 2
}
