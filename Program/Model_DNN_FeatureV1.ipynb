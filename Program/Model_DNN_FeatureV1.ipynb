{
 "cells": [
  {
   "cell_type": "code",
   "execution_count": 1,
   "metadata": {},
   "outputs": [],
   "source": [
    "import numpy as np\n",
    "import pandas as pd\n",
    "import torch\n",
    "import torch.nn as nn\n",
    "from torchvision import transforms, datasets\n",
    "from torch.utils.data import Dataset, DataLoader\n",
    "from sklearn.svm import SVC\n",
    "from sklearn.ensemble import RandomForestClassifier\n",
    "from sklearn.preprocessing import StandardScaler, OneHotEncoder\n",
    "from sklearn.model_selection import train_test_split\n",
    "from sklearn.metrics import balanced_accuracy_score, accuracy_score, f1_score, recall_score, precision_score, confusion_matrix\n",
    "from sklearn.model_selection import KFold\n",
    "from sklearn.feature_selection import SelectPercentile, chi2, SelectKBest\n",
    "import matplotlib.pyplot as plt"
   ]
  },
  {
   "attachments": {},
   "cell_type": "markdown",
   "metadata": {},
   "source": [
    "# load data"
   ]
  },
  {
   "cell_type": "code",
   "execution_count": 2,
   "metadata": {},
   "outputs": [],
   "source": [
    "feature = pd.read_csv('./result/featuresV1.csv')\n",
    "feature = feature[['alert_key', 'trade_amount_usd', 'amt_sum',\n",
    "       'amt_std', 'd_cur_type', 'day', 'trans_no_final', 'd_cur_type_ratio',\n",
    "       'sum_0', 'sum_1', 'var_0', 'var_1', 'transnation_rate',\n",
    "       'total_amount_money_in', 'total_amount_money_out', 'var_money_in',\n",
    "       'var_money_out', 'cross_bank_rate', 'risk_rank',\n",
    "       'occupation_code', 'total_asset', 'AGE', 'lupay_max', 'lupay_std',\n",
    "       'clamt_max', 'clamt_std', 'csamt_max', 'csamt_std', 'inamt_max',\n",
    "       'inamt_std', 'cucsm_max', 'cucsm_std', 'cucah_max', 'cucah_std',\n",
    "       'cytocam_times', 'cytocam_first', 'cytocam_last', 'cytocam_variance']]"
   ]
  },
  {
   "cell_type": "code",
   "execution_count": 3,
   "metadata": {},
   "outputs": [],
   "source": [
    "target = pd.read_csv('./data/train_y_answer.csv')\n",
    "feature_public = pd.DataFrame([])\n",
    "for i in range(len(feature)):\n",
    "    if feature['alert_key'].iloc[i] not in list(target.alert_key):\n",
    "        dp_t = pd.DataFrame(np.array([np.array(feature.iloc[i])]), columns = feature.columns)\n",
    "        feature_public = pd.concat([feature_public, dp_t])\n",
    "alert_key_f = target.alert_key\n",
    "target.set_index('alert_key', inplace = True)\n",
    "feature.set_index('alert_key', inplace = True)\n",
    "\n",
    "feature = feature.reindex(target.index)\n",
    "feature = pd.concat([feature, target], axis = 1)\n",
    "alert_key = feature_public.alert_key\n",
    "feature_public.set_index('alert_key', inplace = True)\n",
    "feature_public = feature_public.fillna(0)\n",
    "feature = feature.fillna(0)"
   ]
  },
  {
   "cell_type": "code",
   "execution_count": 14,
   "metadata": {},
   "outputs": [],
   "source": [
    "df = feature\n",
    "df_public = feature_public"
   ]
  },
  {
   "cell_type": "code",
   "execution_count": 15,
   "metadata": {},
   "outputs": [],
   "source": [
    "class DNN(nn.Module):\n",
    "    def __init__(self, input_size, num_classes):\n",
    "        super(DNN, self).__init__()\n",
    "        self.dnn = nn.Sequential(nn.Linear(input_size,256),\n",
    "                                 nn.Tanh(),\n",
    "                                 nn.Linear(256,128),\n",
    "                                 nn.Tanh(),\n",
    "                                 nn.Linear(128,32),\n",
    "                                 nn.Tanh(),\n",
    "                                 nn.Linear(32,num_classes))\n",
    "    def forward(self, x):\n",
    "        output = self.dnn(x)\n",
    "        return output"
   ]
  },
  {
   "cell_type": "code",
   "execution_count": 16,
   "metadata": {},
   "outputs": [],
   "source": [
    "device = torch.device(\"cuda:0\" if torch.cuda.is_available() else \"cpu\")"
   ]
  },
  {
   "cell_type": "code",
   "execution_count": 17,
   "metadata": {},
   "outputs": [],
   "source": [
    "class seqDataset(Dataset):\n",
    "    def __init__(self, data):\n",
    "        #print(data.shape)\n",
    "        self.n_samples = data.shape[0]\n",
    "        self.seq_data = torch.from_numpy(data).to(device)\n",
    "    def __getitem__(self, index):\n",
    "        return self.seq_data[index]\n",
    "    def __len__(self):\n",
    "        \n",
    "        return self.n_samples"
   ]
  },
  {
   "cell_type": "code",
   "execution_count": 18,
   "metadata": {},
   "outputs": [],
   "source": [
    "def score(y_true: pd.DataFrame, y_pred: pd.DataFrame):\n",
    "    \"\"\" \n",
    "    y_true - pandas.DataFrame: alert_key | sar_flag\n",
    "    y_pred - pandas.DataFrame: alert_key | prob  \n",
    "    \"\"\"\n",
    "    n = len(y_true[y_true.sar_flag==1]) # Num sar\n",
    "    sar = y_true[y_true.sar_flag==1].alert_key.values # sar alert keys\n",
    "    y_pred.sort_values(by=['probability'], ascending=False, inplace=True)\n",
    "    hit = 0\n",
    "    for i, y_pred_ in enumerate(y_pred.alert_key.values):\n",
    "        if y_pred_ in sar:\n",
    "            hit += 1\n",
    "        if hit == n-1:\n",
    "            break\n",
    "    return (n-1)/(i+1), n-1, i"
   ]
  },
  {
   "cell_type": "code",
   "execution_count": 19,
   "metadata": {},
   "outputs": [],
   "source": [
    "answer = pd.read_csv('./data/24_ESun_public_y_answer.csv')\n",
    "answer.set_index('alert_key', inplace = True)\n",
    "answer.reindex(df_public.index)\n",
    "df_public['sar_flag'] = answer.sar_flag"
   ]
  },
  {
   "cell_type": "code",
   "execution_count": 20,
   "metadata": {},
   "outputs": [],
   "source": [
    "epoch_num =20\n",
    "batch_size = 256\n",
    "X_df = df.iloc[:,:-1].values.astype(np.float32)\n",
    "y_df = df.iloc[:,-1].values\n",
    "X_df_public = df_public.iloc[:,:-1].values.astype(np.float32)\n",
    "y_df_public = df_public.iloc[:,-1].values\n",
    "\n"
   ]
  },
  {
   "attachments": {},
   "cell_type": "markdown",
   "metadata": {},
   "source": [
    "# training"
   ]
  },
  {
   "cell_type": "code",
   "execution_count": 21,
   "metadata": {},
   "outputs": [],
   "source": [
    "\n",
    "train_dataset = seqDataset(np.hstack((X_df,y_df[:,np.newaxis].astype(int))))\n",
    "train_loader = torch.utils.data.DataLoader(dataset=train_dataset, \n",
    "                                        batch_size=batch_size, \n",
    "                                        shuffle=False)\n",
    "\n",
    "val_dataset = seqDataset(np.hstack((X_df_public,y_df_public[:,np.newaxis].astype(int))))\n",
    "val_loader = torch.utils.data.DataLoader(dataset=val_dataset, \n",
    "                                        batch_size=batch_size, \n",
    "                                        shuffle=False)   \n",
    "model = DNN(37,2).to(device)\n",
    "criterion = nn.CrossEntropyLoss()\n",
    "optimizer = torch.optim.Adam(model.parameters(), lr=1e-6) \n",
    "loss_all = []\n",
    "loss_all_val = []\n",
    "score_all = []\n",
    "score_all_val = []\n",
    "acc_all = []\n",
    "acc_all_val = []\n",
    "epoch_all = []\n",
    "for epoch in range(epoch_num):\n",
    "    epoch_all.append(epoch)\n",
    "    model.train()\n",
    "    total_loss = 0\n",
    "    n_sample = 0\n",
    "    # test = 0\n",
    "    loss_t = 0\n",
    "    loss_t_val = 0\n",
    "    y_pred_ = []\n",
    "    y_test_ = []\n",
    "    y_this_ = []\n",
    "    for i,seqs in enumerate(train_loader):\n",
    "        output = model(seqs[:,:-1].float())\n",
    "        # print(output)\n",
    "        \n",
    "        loss = criterion(output, seqs[:,-1].to(torch.int64))\n",
    "        optimizer.zero_grad()\n",
    "        total_loss += loss.item()\n",
    "        loss_t += (loss.item())\n",
    "        loss.backward()\n",
    "        optimizer.step()\n",
    "        n_sample += len(seqs)\n",
    "        y_pred = output\n",
    "        y_this = y_pred\n",
    "        mm =  nn.Softmax(dim = 1)\n",
    "        y_this = mm(y_this)\n",
    "        y_pred = y_pred.data.cpu().numpy()\n",
    "        y_this = y_this.data.cpu().numpy()\n",
    "        y_pred = np.argmax(y_pred, axis = 1)\n",
    "        y_test = seqs[:,-1].to(torch.int64).cpu().numpy()\n",
    "\n",
    "        y_pred_.append(y_pred)\n",
    "        y_test_.append(y_test)\n",
    "        y_this_.append(y_this)\n",
    "        \n",
    "    y_pred_ = np.concatenate(y_pred_)\n",
    "    y_test_ = np.concatenate(y_test_)\n",
    "    y_this_ = np.concatenate(y_this_)\n",
    "    y_this_ = pd.DataFrame(y_this_)\n",
    "    y_test_this_ = pd.DataFrame(y_test_)\n",
    "  \n",
    "\n",
    "    a = pd.concat([pd.DataFrame(np.array([np.array(alert_key_f)]).T), y_this_[y_this_.columns[1]]], axis = 1)\n",
    "    a.columns = ['alert_key', 'probability']\n",
    " \n",
    "    answer = pd.concat([pd.DataFrame(np.array([np.array(alert_key_f)]).T), y_test_this_], axis = 1)\n",
    "    answer.columns = ['alert_key', 'sar_flag']\n",
    " \n",
    "    score_ = score(answer, a)\n",
    "    loss_all.append(loss_t/(i+1))\n",
    "    train_acc = accuracy_score(y_test_, y_pred_)\n",
    "    acc_all.append(train_acc)\n",
    "    score_all.append(score_[0])\n",
    " \n",
    "    y_pred_ = []\n",
    "    y_test_ = []\n",
    "    y_this_ = []\n",
    "    model.eval()\n",
    "    for i, seqs in enumerate(val_loader):\n",
    "        output = model(seqs[:,:-1].float())\n",
    "        loss_val = criterion(output, seqs[:,-1].to(torch.int64))\n",
    "        loss_t_val += loss_val.item()\n",
    "        y_pred = output\n",
    "        y_this = y_pred\n",
    "        mm =  nn.Softmax(dim = 1)\n",
    "        y_this = mm(y_this)\n",
    "        y_pred = y_pred.data.cpu().numpy()\n",
    "        y_this = y_this.data.cpu().numpy()\n",
    "        y_pred = np.argmax(y_pred, axis = 1)\n",
    "        y_test = seqs[:,-1].to(torch.int64).cpu().numpy()\n",
    "\n",
    "        y_pred_.append(y_pred)\n",
    "        y_test_.append(y_test)\n",
    "        y_this_.append(y_this)\n",
    "    y_pred_ = np.concatenate(y_pred_)\n",
    "    y_test_ = np.concatenate(y_test_)\n",
    "    y_this_ = np.concatenate(y_this_)\n",
    "    y_this_ = pd.DataFrame(y_this_)\n",
    "    y_test_this_ = pd.DataFrame(y_test_)\n",
    "\n",
    "    a = pd.concat([pd.DataFrame(np.array([np.array(alert_key)]).T), y_this_[y_this_.columns[1]]], axis = 1)\n",
    "    a.columns = ['alert_key', 'probability']\n",
    "    answer = pd.concat([pd.DataFrame(np.array([np.array(alert_key)]).T), y_test_this_], axis = 1)\n",
    "    answer.columns = ['alert_key', 'sar_flag']\n",
    "    score_ = score(answer, a)\n",
    "    loss_all_val.append(loss_t_val/(i+1))\n",
    "    test_acc = accuracy_score(y_test_, y_pred_)\n",
    "    acc_all_val.append(test_acc)\n",
    "    score_all_val.append(score_[0])\n",
    "    \n",
    "    fig, ax = plt.subplots()\n",
    "    ax.plot(epoch_all,loss_all)\n",
    "    ax.plot(epoch_all, loss_all_val)\n",
    "    plt.legend(['train', 'test'])\n",
    "    plt.savefig(f'./result/DNN_loss.png')\n",
    "    plt.close()\n",
    "    fig, ax = plt.subplots()\n",
    "    ax.plot(epoch_all, acc_all)\n",
    "    ax.plot(epoch_all, acc_all_val)\n",
    "    plt.legend(['train', 'test'])\n",
    "    plt.savefig(f'./result/DNN_acc.png')\n",
    "    plt.close()\n",
    "    fig, ax = plt.subplots()\n",
    "    ax.plot(epoch_all, score_all)\n",
    "    ax.plot(epoch_all, score_all_val)\n",
    "    plt.legend(['train', 'test'])\n",
    "    plt.savefig(f'./result/DNN_score.png')\n",
    "    plt.close()\n",
    "fig = plt.subplots()\n",
    "plt.plot(epoch_all,loss_all)\n",
    "plt.plot(epoch_all, loss_all_val)\n",
    "plt.legend(['train', 'test'])\n",
    "plt.close()\n"
   ]
  },
  {
   "attachments": {},
   "cell_type": "markdown",
   "metadata": {},
   "source": [
    "# public score"
   ]
  },
  {
   "cell_type": "code",
   "execution_count": 22,
   "metadata": {},
   "outputs": [
    {
     "data": {
      "text/plain": [
       "0.006675567423230975"
      ]
     },
     "execution_count": 22,
     "metadata": {},
     "output_type": "execute_result"
    }
   ],
   "source": [
    "score_[0]"
   ]
  },
  {
   "attachments": {},
   "cell_type": "markdown",
   "metadata": {},
   "source": [
    "# SAR prob rank"
   ]
  },
  {
   "cell_type": "code",
   "execution_count": 23,
   "metadata": {},
   "outputs": [
    {
     "name": "stdout",
     "output_type": "stream",
     "text": [
      "354939 [353]\n",
      "355091 [1485]\n",
      "355152 [1095]\n",
      "355724 [1497]\n",
      "359668 [381]\n",
      "356602 [893]\n",
      "363320 [470]\n",
      "358453 [1555]\n",
      "363896 [845]\n",
      "361617 [1056]\n",
      "363033 [684]\n"
     ]
    }
   ],
   "source": [
    "y_this_ = pd.DataFrame(y_this_)\n",
    "a = pd.concat([pd.DataFrame(np.array([np.array(alert_key)]).T), y_this_[y_this_.columns[1]]], axis = 1)\n",
    "a.columns = ['alert_key', 'probability']\n",
    "a = a.sort_values('probability', ascending = False)\n",
    "a.reset_index(inplace = True)\n",
    "a.drop(columns = 'index', inplace = True)\n",
    "answer = pd.read_csv('./data/24_ESun_public_y_answer.csv')\n",
    "answer_1 = answer[answer.sar_flag == 1]\n",
    "for i in answer_1['alert_key']:\n",
    "    index = a[a.alert_key == i].index\n",
    "    print(i, index.values)"
   ]
  },
  {
   "attachments": {},
   "cell_type": "markdown",
   "metadata": {},
   "source": [
    "# loss curve plot"
   ]
  },
  {
   "cell_type": "code",
   "execution_count": 24,
   "metadata": {},
   "outputs": [
    {
     "data": {
      "text/plain": [
       "<matplotlib.legend.Legend at 0x7fe76147ef70>"
      ]
     },
     "execution_count": 24,
     "metadata": {},
     "output_type": "execute_result"
    },
    {
     "data": {
      "image/png": "[encoded data removed]",
      "text/plain": [
       "<Figure size 432x288 with 1 Axes>"
      ]
     },
     "metadata": {
      "needs_background": "light"
     },
     "output_type": "display_data"
    }
   ],
   "source": [
    "plt.figure()\n",
    "plt.plot(epoch_all,loss_all)\n",
    "plt.plot(epoch_all, loss_all_val)\n",
    "plt.xlabel('epoch')\n",
    "plt.ylabel('loss')\n",
    "plt.title('loss curve')\n",
    "plt.legend(['train', 'test'])\n"
   ]
  },
  {
   "attachments": {},
   "cell_type": "markdown",
   "metadata": {},
   "source": [
    "# accuracy curve plot"
   ]
  },
  {
   "cell_type": "code",
   "execution_count": 25,
   "metadata": {},
   "outputs": [
    {
     "data": {
      "text/plain": [
       "<matplotlib.legend.Legend at 0x7fe7340ae7c0>"
      ]
     },
     "execution_count": 25,
     "metadata": {},
     "output_type": "execute_result"
    },
    {
     "data": {
      "image/png": "[encoded data removed]",
      "text/plain": [
       "<Figure size 432x288 with 1 Axes>"
      ]
     },
     "metadata": {
      "needs_background": "light"
     },
     "output_type": "display_data"
    }
   ],
   "source": [
    "plt.figure()\n",
    "plt.plot(epoch_all,acc_all)\n",
    "plt.plot(epoch_all, acc_all_val)\n",
    "plt.xlabel('epoch')\n",
    "plt.ylabel('acc')\n",
    "plt.title('accuracy curve')\n",
    "plt.legend(['train', 'test'])"
   ]
  },
  {
   "attachments": {},
   "cell_type": "markdown",
   "metadata": {},
   "source": [
    "# score curve plot"
   ]
  },
  {
   "cell_type": "code",
   "execution_count": 26,
   "metadata": {},
   "outputs": [
    {
     "data": {
      "text/plain": [
       "<matplotlib.legend.Legend at 0x7fe7225838e0>"
      ]
     },
     "execution_count": 26,
     "metadata": {},
     "output_type": "execute_result"
    },
    {
     "data": {
      "image/png": "[encoded data removed]",
      "text/plain": [
       "<Figure size 432x288 with 1 Axes>"
      ]
     },
     "metadata": {
      "needs_background": "light"
     },
     "output_type": "display_data"
    }
   ],
   "source": [
    "plt.figure()\n",
    "plt.plot(epoch_all,score_all)\n",
    "plt.plot(epoch_all, score_all_val)\n",
    "plt.xlabel('epoch')\n",
    "plt.ylabel('score')\n",
    "plt.title('score curve')\n",
    "plt.legend(['train', 'test'])"
   ]
  },
  {
   "cell_type": "code",
   "execution_count": null,
   "metadata": {},
   "outputs": [],
   "source": []
  }
 ],
 "metadata": {
  "kernelspec": {
   "display_name": "torch1.11_jingchun",
   "language": "python",
   "name": "python3"
  },
  "language_info": {
   "codemirror_mode": {
    "name": "ipython",
    "version": 3
   },
   "file_extension": ".py",
   "mimetype": "text/x-python",
   "name": "python",
   "nbconvert_exporter": "python",
   "pygments_lexer": "ipython3",
   "version": "3.8.13"
  },
  "orig_nbformat": 4,
  "vscode": {
   "interpreter": {
    "hash": "153eb44d1df451050d9a6ad951757631dc786b54726fb271d26408330b3b4639"
   }
  }
 },
 "nbformat": 4,
 "nbformat_minor": 2
}
